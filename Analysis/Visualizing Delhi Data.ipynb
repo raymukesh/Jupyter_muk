{
 "cells": [
  {
   "cell_type": "code",
   "execution_count": 1,
   "metadata": {},
   "outputs": [],
   "source": [
    "import geemap\n",
    "import ee\n"
   ]
  },
  {
   "cell_type": "code",
   "execution_count": 2,
   "metadata": {},
   "outputs": [
    {
     "output_type": "display_data",
     "data": {
      "text/plain": "Map(center=[40, -100], controls=(WidgetControl(options=['position'], widget=HBox(children=(ToggleButton(value=…",
      "application/vnd.jupyter.widget-view+json": {
       "version_major": 2,
       "version_minor": 0,
       "model_id": "37ee28c788404de9b9e1ce8a25e1ea28"
      }
     },
     "metadata": {}
    }
   ],
   "source": [
    "Map = geemap.Map()\n",
    "Map"
   ]
  },
  {
   "cell_type": "markdown",
   "metadata": {},
   "source": [
    "# To Search The Assets from Google Earth Engine"
   ]
  },
  {
   "cell_type": "code",
   "execution_count": 5,
   "metadata": {},
   "outputs": [
    {
     "data": {
      "application/vnd.jupyter.widget-view+json": {
       "model_id": "c32365fbf69541ecb08c799e70c36aad",
       "version_major": 2,
       "version_minor": 0
      },
      "text/plain": [
       "HBox(children=(VBox(), VBox()))"
      ]
     },
     "metadata": {},
     "output_type": "display_data"
    }
   ],
   "source": [
    "geemap.ee_search()"
   ]
  },
  {
   "cell_type": "code",
   "execution_count": 4,
   "metadata": {},
   "outputs": [],
   "source": [
    "districts = ee.FeatureCollection('users/Introduction/study_dist')\n",
    "Map.addLayer(districts, {}, \"study_dist\")"
   ]
  },
  {
   "cell_type": "code",
   "execution_count": 18,
   "metadata": {
    "scrolled": true
   },
   "outputs": [
    {
     "data": {
      "application/vnd.jupyter.widget-view+json": {
       "model_id": "b020d77f05254b669e988bec587ff1ac",
       "version_major": 2,
       "version_minor": 0
      },
      "text/plain": [
       "Map(center=[40, -100], controls=(WidgetControl(options=['position'], widget=HBox(children=(ToggleButton(value=…"
      ]
     },
     "metadata": {},
     "output_type": "display_data"
    }
   ],
   "source": [
    "Map = geemap.Map()\n",
    "Map"
   ]
  },
  {
   "cell_type": "code",
   "execution_count": 3,
   "metadata": {},
   "outputs": [],
   "source": [
    "study_area = ee.FeatureCollection('users/Introduction/study_area')\n",
    "Map.addLayer(study_area, {}, \"study_area\", opacity=0.5)"
   ]
  },
  {
   "cell_type": "code",
   "execution_count": 11,
   "metadata": {},
   "outputs": [],
   "source": [
    "study_new = \"../Jupyter Notebook/delhi/delhi.shp\"\n",
    "study = geemap.shp_to_ee(study_new)\n",
    "Map.addLayer(study, {}, 'study')"
   ]
  },
  {
   "cell_type": "code",
   "execution_count": 9,
   "metadata": {},
   "outputs": [],
   "source": [
    "dataset_lcw = ee.Image('users/Introduction/Delhi_LULC_15_1').clip(study_area)\n",
    "\n",
    "vis = {\n",
    "    'min': 0,\n",
    "    'max': 5,\n",
    "    'palette': ['cecece', # no data = 0\n",
    "  '16e9ff', # water = 1\n",
    "  '10d20d', # vegetation = 2\n",
    "  'ff0000', # urban = 3\n",
    "  'fcff3d', # agriculture = 4\n",
    "  '997800', # barren = 5              ]\n",
    "               ]\n",
    "}\n",
    "\n",
    "\n",
    "Map.addLayer(dataset_lcw, vis, \"Delhi_LULC_15_1\")"
   ]
  },
  {
   "cell_type": "code",
   "execution_count": 7,
   "metadata": {},
   "outputs": [
    {
     "output_type": "stream",
     "name": "stdout",
     "text": [
      "Computing ... \n",
      "Generating URL ...\n",
      "Downloading data from https://earthengine.googleapis.com/v1alpha/projects/earthengine-legacy/tables/1818bf3eaf7942d8ced7deb4bd5f1e53-d54c714dfbbca448e6843f34847f4d79:getFeatures\n",
      "Please wait ...\n",
      "Data downloaded to C:\\Users\\13046103\\Downloads\\GEE\\lulc_2015_4.csv\n"
     ]
    }
   ],
   "source": [
    "out_dir = os.path.join(os.path.expanduser('~'), \"Downloads/GEE\")\n",
    "delhi_stats = os.path.join(out_dir, 'lulc_2015_4.csv')  \n",
    "# statistics_type can be either 'SUM' or 'PERCENTAGE'\n",
    "# denominator can be used to convert square meters to other areal units, such as square kilimeters\n",
    "geemap.zonal_statistics_by_group(dataset_lcw, districts, delhi_stats, statistics_type='SUM', denominator=1000000, decimal_places=2)"
   ]
  }
 ],
 "metadata": {
  "kernelspec": {
   "name": "python3",
   "display_name": "Python 3.8.5 64-bit ('muk': conda)",
   "metadata": {
    "interpreter": {
     "hash": "5efe5880c7aa9385d4b0d05bf710e4c1ca6728c7be9803c3067828c17d1ce2a8"
    }
   }
  },
  "language_info": {
   "codemirror_mode": {
    "name": "ipython",
    "version": 3
   },
   "file_extension": ".py",
   "mimetype": "text/x-python",
   "name": "python",
   "nbconvert_exporter": "python",
   "pygments_lexer": "ipython3",
   "version": "3.8.5-final"
  }
 },
 "nbformat": 4,
 "nbformat_minor": 4
}