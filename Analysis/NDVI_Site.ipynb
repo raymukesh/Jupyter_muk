{
 "cells": [
  {
   "cell_type": "code",
   "execution_count": 1,
   "metadata": {},
   "outputs": [],
   "source": [
    "import geemap\n",
    "import ee\n"
   ]
  },
  {
   "cell_type": "markdown",
   "metadata": {},
   "source": [
    "# To Search The Assets from Google Earth Engine"
   ]
  },
  {
   "cell_type": "code",
   "execution_count": 2,
   "metadata": {
    "scrolled": true
   },
   "outputs": [
    {
     "output_type": "display_data",
     "data": {
      "text/plain": "Map(center=[40, -100], controls=(WidgetControl(options=['position'], widget=HBox(children=(ToggleButton(value=…",
      "application/vnd.jupyter.widget-view+json": {
       "version_major": 2,
       "version_minor": 0,
       "model_id": "8a7623d2391d461b8e35d9bb02ea57c8"
      }
     },
     "metadata": {}
    }
   ],
   "source": [
    "Map = geemap.Map()\n",
    "Map"
   ]
  },
  {
   "cell_type": "code",
   "execution_count": 4,
   "metadata": {},
   "outputs": [],
   "source": [
    "districts = ee.FeatureCollection('users/Introduction/study_dist')\n",
    "Map.addLayer(districts, {}, \"study_dist\")"
   ]
  },
  {
   "cell_type": "code",
   "execution_count": 3,
   "metadata": {},
   "outputs": [],
   "source": [
    "site = ee.FeatureCollection('users/Introduction/study_area')\n",
    "Map.addLayer(site, {}, \"study_area\", opacity=0.5)\n",
    "Map.centerObject(site, zoom= 9)"
   ]
  },
  {
   "cell_type": "code",
   "execution_count": 11,
   "metadata": {},
   "outputs": [],
   "source": [
    "study_new = \"../Jupyter Notebook/delhi/delhi.shp\"\n",
    "study = geemap.shp_to_ee(study_new)\n",
    "Map.addLayer(study, {}, 'study')"
   ]
  },
  {
   "source": [
    "## Calulating NDVI"
   ],
   "cell_type": "markdown",
   "metadata": {}
  },
  {
   "cell_type": "code",
   "execution_count": 6,
   "metadata": {},
   "outputs": [],
   "source": [
    "Y1990 = ee.ImageCollection(\"LANDSAT/LT05/C01/T1_SR\") \\\n",
    "            .filterDate('1990-01-01', '1993-01-01') \\\n",
    "            .filterMetadata(\"CLOUD_COVER\", \"less_than\", 2) \\\n",
    "            .median() \\\n",
    "            .clip(site) \n",
    "Map.addLayer(Y1990, {'bands': ['B3', 'B2', 'B1'], 'min': 557, 'max': 1709}, \"LANDSAT 5\" )"
   ]
  },
  {
   "cell_type": "code",
   "execution_count": 7,
   "metadata": {},
   "outputs": [],
   "source": [
    "NDVI1990 = Y1990.normalizedDifference(['B4', 'B3'])\n",
    "NDWI1990 = Y1990.normalizedDifference(['B2', 'B4'])\n",
    "\n",
    "ndvi_palette= 'FFFFFF, CE7E45, DF923D, F1B555, FCD163, 99B718, 74A901, 66A000, 529400,' + '3E8601, 207401, 056201, 004C00, 023B01, 012E01, 011D01, 011301';\n",
    "Map.addLayer(NDVI1990, {'min': -0.1, 'max': 1.0, 'palette': ndvi_palette}, 'NDVI');\n",
    "Map.addLayer(NDWI1990, {'min': -0.1, 'max': 1.0, 'palette': ndvi_palette}, \"NDWI\");"
   ]
  },
  {
   "cell_type": "code",
   "execution_count": null,
   "metadata": {},
   "outputs": [],
   "source": [
    "## Creating the Ouput Directory"
   ]
  },
  {
   "cell_type": "code",
   "execution_count": 10,
   "metadata": {},
   "outputs": [],
   "source": [
    "out_dir = os.path.join(os.path.expanduser('~'), \"Downloads/GEE\")\n",
    "site_NDVI = os.path.join(out_dir, 'ndvi1990.tif')  "
   ]
  },
  {
   "source": [
    "## Exporting as TIF Image"
   ],
   "cell_type": "markdown",
   "metadata": {}
  },
  {
   "cell_type": "code",
   "execution_count": 11,
   "metadata": {},
   "outputs": [
    {
     "output_type": "stream",
     "name": "stdout",
     "text": [
      "Generating URL ...\n",
      "An error occurred while downloading.\n",
      "Image.clipToBoundsAndScale, argument 'geometry': Invalid type.\n",
      "Expected type: Geometry.\n",
      "Actual type: FeatureCollection.\n"
     ]
    }
   ],
   "source": [
    "geemap.ee_export_image(NDVI1990, filename=site_NDVI, scale=90, region=site, file_per_band=False)"
   ]
  },
  {
   "cell_type": "code",
   "execution_count": null,
   "metadata": {},
   "outputs": [],
   "source": []
  }
 ],
 "metadata": {
  "kernelspec": {
   "name": "python3",
   "display_name": "Python 3.8.5 64-bit ('muk': conda)",
   "metadata": {
    "interpreter": {
     "hash": "5efe5880c7aa9385d4b0d05bf710e4c1ca6728c7be9803c3067828c17d1ce2a8"
    }
   }
  },
  "language_info": {
   "codemirror_mode": {
    "name": "ipython",
    "version": 3
   },
   "file_extension": ".py",
   "mimetype": "text/x-python",
   "name": "python",
   "nbconvert_exporter": "python",
   "pygments_lexer": "ipython3",
   "version": "3.8.5-final"
  }
 },
 "nbformat": 4,
 "nbformat_minor": 4
}